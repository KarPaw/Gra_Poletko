{
  "cells": [
    {
      "cell_type": "code",
      "execution_count": null,
      "metadata": {
        "id": "JFp0ot2Px_KS",
        "outputId": "ad1bc77f-b0cb-46db-cd5f-35a540165836"
      },
      "outputs": [
        {
          "data": {
            "text/plain": [
              "1024"
            ]
          },
          "execution_count": 2,
          "metadata": {},
          "output_type": "execute_result"
        }
      ],
      "source": [
        "2**10"
      ]
    },
    {
      "cell_type": "markdown",
      "metadata": {
        "id": "RLPYMBbQx_KV"
      },
      "source": [
        "Find the value of $T$ and $T^2$, where\n",
        "\n",
        "$$T:=\\frac{2+\\sqrt{3}}{\\sqrt{2}+\\sqrt{2+\\sqrt{3}}}+\\frac{2-\\sqrt{3}}{\\sqrt{2}-\\sqrt{2-\\sqrt{3}}}$$"
      ]
    },
    {
      "cell_type": "code",
      "execution_count": null,
      "metadata": {
        "id": "XqqEGeCZx_KW"
      },
      "outputs": [],
      "source": [
        "from math import sqrt"
      ]
    },
    {
      "cell_type": "code",
      "execution_count": null,
      "metadata": {
        "id": "H3f_w0aDx_KX"
      },
      "outputs": [],
      "source": [
        "T = 2 + sqrt(3) / (\n",
        "    sqrt(2) + sqrt(2+ sqrt(3))\n",
        ") + (\n",
        "    2 - sqrt(3) / (\n",
        "        sqrt(2) - sqrt( 2 - sqrt(3))\n",
        "    )\n",
        ")"
      ]
    },
    {
      "cell_type": "code",
      "execution_count": null,
      "metadata": {
        "id": "Y-wKLojxx_KX",
        "outputId": "89a5c4ab-220a-4c5b-aa4d-77882ff19e1e"
      },
      "outputs": [
        {
          "name": "stdout",
          "output_type": "stream",
          "text": [
            "2.585786437626905 6.686291501015241\n"
          ]
        }
      ],
      "source": [
        "print(T, T**2)"
      ]
    },
    {
      "cell_type": "code",
      "execution_count": null,
      "metadata": {
        "id": "lXbE-InHx_KX",
        "outputId": "e74eda91-a87f-4910-d46c-177e7c7d7209"
      },
      "outputs": [
        {
          "data": {
            "text/plain": [
              "True"
            ]
          },
          "execution_count": 16,
          "metadata": {},
          "output_type": "execute_result"
        }
      ],
      "source": [
        "2**1000 == 2.0**1000"
      ]
    },
    {
      "cell_type": "code",
      "execution_count": null,
      "metadata": {
        "id": "H_ojZgSUx_KY",
        "outputId": "76ee910f-454c-4004-b037-b2f00fcfce27"
      },
      "outputs": [
        {
          "data": {
            "text/plain": [
              "19950631168807583848837421626835850838234968318861924548520089498529438830221946631919961684036194597899331129423209124271556491349413781117593785932096323957855730046793794526765246551266059895520550086918193311542508608460618104685509074866089624888090489894838009253941633257850621568309473902556912388065225096643874441046759871626985453222868538161694315775629640762836880760732228535091641476183956381458969463899410840960536267821064621427333394036525565649530603142680234969400335934316651459297773279665775606172582031407994198179607378245683762280037302885487251900834464581454650557929601414833921615734588139257095379769119277800826957735674444123062018757836325502728323789270710373802866393031428133241401624195671690574061419654342324638801248856147305207431992259611796250130992860241708340807605932320161268492288496255841312844061536738951487114256315111089745514203313820202931640957596464756010405845841566072044962867016515061920631004186422275908670900574606417856951911456055068251250406007519842261898059237118054444788072906395242548339221982707404473162376760846613033778706039803413197133493654622700563169937455508241780972810983291314403571877524768509857276937926433221599399876886660808368837838027643282775172273657572744784112294389733810861607423253291974813120197604178281965697475898164531258434135959862784130128185406283476649088690521047580882615823961985770122407044330583075869039319604603404973156583208672105913300903752823415539745394397715257455290510212310947321610753474825740775273986348298498340756937955646638621874569499279016572103701364433135817214311791398222983845847334440270964182851005072927748364550578634501100852987812389473928699540834346158807043959118985815145779177143619698728131459483783202081474982171858011389071228250905826817436220577475921417653715687725614904582904992461028630081535583308130101987675856234343538955409175623400844887526162643568648833519463720377293240094456246923254350400678027273837755376406726898636241037491410966718557050759098100246789880178271925953381282421954028302759408448955014676668389697996886241636313376393903373455801407636741877711055384225739499110186468219696581651485130494222369947714763069155468217682876200362777257723781365331611196811280792669481887201298643660768551639860534602297871557517947385246369446923087894265948217008051120322365496288169035739121368338393591756418733850510970271613915439590991598154654417336311656936031122249937969999226781732358023111862644575299135758175008199839236284615249881088960232244362173771618086357015468484058622329792853875623486556440536962622018963571028812361567512543338303270029097668650568557157505516727518899194129711337690149916181315171544007728650573189557450920330185304847113818315407324053319038462084036421763703911550639789000742853672196280903477974533320468368795868580237952218629120080742819551317948157624448298518461509704888027274721574688131594750409732115080498190455803416826949787141316063210686391511681774304792596709376"
            ]
          },
          "execution_count": 19,
          "metadata": {},
          "output_type": "execute_result"
        }
      ],
      "source": [
        "2**10000"
      ]
    },
    {
      "cell_type": "code",
      "execution_count": null,
      "metadata": {
        "id": "sPGzUet_x_KY",
        "outputId": "9f529581-975c-4fb0-b890-4254e4b991e6"
      },
      "outputs": [
        {
          "ename": "OverflowError",
          "evalue": "(34, 'Result too large')",
          "output_type": "error",
          "traceback": [
            "\u001b[1;31m---------------------------------------------------------------------------\u001b[0m",
            "\u001b[1;31mOverflowError\u001b[0m                             Traceback (most recent call last)",
            "\u001b[1;32mUntitled-1.ipynb Cell 8\u001b[0m line \u001b[0;36m1\n\u001b[1;32m----> <a href='vscode-notebook-cell:Untitled-1.ipynb?jupyter-notebook#X13sdW50aXRsZWQ%3D?line=0'>1</a>\u001b[0m \u001b[39m2.0\u001b[39;49m\u001b[39m*\u001b[39;49m\u001b[39m*\u001b[39;49m\u001b[39m10000\u001b[39;49m\n",
            "\u001b[1;31mOverflowError\u001b[0m: (34, 'Result too large')"
          ]
        }
      ],
      "source": [
        "2.0**10000"
      ]
    },
    {
      "cell_type": "code",
      "execution_count": null,
      "metadata": {
        "id": "E5u-8fXEx_KY",
        "outputId": "10a15dc8-d22b-4802-923d-ceca35feb139"
      },
      "outputs": [
        {
          "data": {
            "text/plain": [
              "10715086071862673209484250490600018105614048117055336074437503883703510511249361224931983788156958581275946729175531468251871452856923140435984577574698574803934567774824230985421074605062371141877954182153046474983581941267398767559165543946077062914571196477686542167660429831652624386837205668069376"
            ]
          },
          "execution_count": 21,
          "metadata": {},
          "output_type": "execute_result"
        }
      ],
      "source": [
        "2**1000"
      ]
    },
    {
      "cell_type": "code",
      "execution_count": null,
      "metadata": {
        "id": "45nUVjh6x_KZ",
        "outputId": "1aa62d2c-187d-4ed9-e040-78e0fd09fbfa"
      },
      "outputs": [
        {
          "data": {
            "text/plain": [
              "1.0715086071862673e+301"
            ]
          },
          "execution_count": 22,
          "metadata": {},
          "output_type": "execute_result"
        }
      ],
      "source": [
        "2.0**1000"
      ]
    },
    {
      "cell_type": "code",
      "execution_count": null,
      "metadata": {
        "id": "MsvpaAQBx_KZ"
      },
      "outputs": [],
      "source": [
        "# Czyli nastąpiła znaczna zmiana dokładności -- przy float."
      ]
    },
    {
      "cell_type": "markdown",
      "metadata": {
        "id": "qE1O3p3px_KZ"
      },
      "source": [
        "4. Seconds to Days, Hours, Minutes and Seconds\n",
        "Write a program that reads a number of seconds from the user. Then program prints the equivalent amount of time in days, hours, minutes and seconds. You may try to display this value in the form D:HH:MM:SS."
      ]
    },
    {
      "cell_type": "code",
      "execution_count": null,
      "metadata": {
        "id": "Y209yqw8x_KZ"
      },
      "outputs": [],
      "source": [
        "from math import floor"
      ]
    },
    {
      "cell_type": "code",
      "execution_count": null,
      "metadata": {
        "id": "4wWmdOoqx_KZ"
      },
      "outputs": [],
      "source": [
        "seconds_in = int(input(\"Provide a number of seconds ...\"))\n",
        "\n",
        "#571328892"
      ]
    },
    {
      "cell_type": "code",
      "execution_count": null,
      "metadata": {
        "id": "2izXdir1x_Ka",
        "outputId": "c849aac1-5038-48e2-b19f-851ec0ba84e9"
      },
      "outputs": [
        {
          "name": "stdout",
          "output_type": "stream",
          "text": [
            "Time in 'seconds' you given is equal to: 6612:14:28:12. (D:HH:MM:SS)\n"
          ]
        }
      ],
      "source": [
        "\n",
        "days = floor(seconds_in/86400)\n",
        "hours = floor((seconds_in - days*86400) / 60 / 60)\n",
        "minutes = floor((seconds_in - days*86400 - hours*60*60)/60)\n",
        "seconds = seconds_in - days*86400 - hours*60*60 - minutes*60\n",
        "\n",
        "print(\n",
        "    f\"Time in 'seconds' you given is equal to: {days}:{hours}:{minutes}:{seconds}. (D:HH:MM:SS)\"\n",
        ")"
      ]
    },
    {
      "cell_type": "markdown",
      "metadata": {
        "id": "2Tvn_RSax_Ka"
      },
      "source": [
        "## LAB 2 -- cieakwsze zadania"
      ]
    },
    {
      "cell_type": "markdown",
      "metadata": {
        "id": "Mm6gDrogx_Ka"
      },
      "source": [
        "1. Table of Numbers\n",
        "Write a program which will display the following table:\n",
        "\n",
        "```\n",
        "11 12 13 14 15 16 17 18 19\n",
        "21 22 23 24 25 26 27 28 29\n",
        "31 32 33 34 35 36 37 38 39\n",
        "41 42 43 44 45 46 47 48 49\n",
        "51 52 53 54 55 56 57 58 59\n",
        "61 62 63 64 65 66 67 68 69\n",
        "71 72 73 74 75 76 77 78 79\n",
        "81 82 83 84 85 86 87 88 89\n",
        "91 92 93 94 95 96 97 98 99\n",
        "```\n"
      ]
    },
    {
      "cell_type": "code",
      "execution_count": null,
      "metadata": {
        "id": "eRuvgQuox_Ka",
        "outputId": "ab9b2d4d-0f92-4c37-c0aa-0b85c381e8c8"
      },
      "outputs": [
        {
          "name": "stdout",
          "output_type": "stream",
          "text": [
            "11 12 13 14 15 16 17 18 19 \n",
            "21 22 23 24 25 26 27 28 29 \n",
            "31 32 33 34 35 36 37 38 39 \n",
            "41 42 43 44 45 46 47 48 49 \n",
            "51 52 53 54 55 56 57 58 59 \n",
            "61 62 63 64 65 66 67 68 69 \n",
            "71 72 73 74 75 76 77 78 79 \n",
            "81 82 83 84 85 86 87 88 89 \n",
            "91 92 93 94 95 96 97 98 99 \n"
          ]
        }
      ],
      "source": [
        "for i in range(1, 10):\n",
        "    for j in range(1,10):\n",
        "        print(str(i)+str(j)+\" \", end=\"\")\n",
        "    print()"
      ]
    },
    {
      "cell_type": "code",
      "execution_count": null,
      "metadata": {
        "id": "AYa8C2r8x_Ka",
        "outputId": "9db6da6f-5ce9-4e27-eab3-e939cd64220a"
      },
      "outputs": [
        {
          "name": "stdout",
          "output_type": "stream",
          "text": [
            "11 12 13 14 15 16 17 18 19\n",
            "21 22 23 24 25 26 27 28 29\n",
            "31 32 33 34 35 36 37 38 39\n",
            "41 42 43 44 45 46 47 48 49\n",
            "51 52 53 54 55 56 57 58 59\n",
            "61 62 63 64 65 66 67 68 69\n",
            "71 72 73 74 75 76 77 78 79\n",
            "81 82 83 84 85 86 87 88 89\n",
            "91 92 93 94 95 96 97 98 99\n"
          ]
        }
      ],
      "source": [
        "# opcja z row join - tutaj już nie mamy spacji na końcu wiersza\n",
        "\n",
        "for i in range(1,10):\n",
        "    row = ' '.join(f\"{i}{j}\" for j in range(1,10))\n",
        "    print(row)"
      ]
    },
    {
      "cell_type": "markdown",
      "metadata": {
        "id": "PQmiD_sMx_Ka"
      },
      "source": [
        "3. Fizz Buzz\n",
        "Write a program which reads a positive integer n. For the numbers from 1 to n (included) program prints:\n",
        "\n",
        "FizzBuzz if the number is divisible by 3 and 5;\n",
        "Fizz if the number is divisible by 3;\n",
        "Buzz if the number is divisible by 5;\n",
        "the number if the number is neither divisible by 3 nor 5."
      ]
    },
    {
      "cell_type": "code",
      "execution_count": null,
      "metadata": {
        "id": "s1C1WiSTx_Ka"
      },
      "outputs": [],
      "source": [
        "n = int(input(\"Podaj liczbę n > 0\"))"
      ]
    },
    {
      "cell_type": "code",
      "execution_count": null,
      "metadata": {
        "id": "-nsKHQHsx_Ka",
        "outputId": "76216e0a-9a5d-4eea-e238-2b52886492cb"
      },
      "outputs": [
        {
          "name": "stdout",
          "output_type": "stream",
          "text": [
            "1 2 Fizz 4 Buzz Fizz 7 8 Fizz Buzz 11 Fizz 13 14 FizzBuzz 16 17 Fizz 19 Buzz "
          ]
        }
      ],
      "source": [
        "for k in range(1, n+1):\n",
        "    if k % 3 == 0 and k % 5 == 0:\n",
        "        print(\"FizzBuzz\", end = ' ')\n",
        "    elif k % 3 == 0:\n",
        "        print(\"Fizz\", end = ' ')\n",
        "    elif k % 5 ==0:\n",
        "        print(\"Buzz\", end = ' ')\n",
        "    else:\n",
        "        print(k, end = ' ')"
      ]
    },
    {
      "cell_type": "markdown",
      "metadata": {
        "id": "jP3yd6rQx_Kb"
      },
      "source": [
        "6. Finding Real Root of an Equation\n",
        "Let $x_0$ be a real root of the following equation $$ x^5 - x + 1 = 0. $$ The aim of this exercise is to find an approximation of $x_0$ with given accuracy.\n",
        "\n",
        "Let $\\varepsilon=10^{-12}$. Write a program which will find $x_1$ such that $|x_1-x_0|<\\varepsilon$.\n",
        "\n",
        "Check your solution on Wolfram Alpha."
      ]
    },
    {
      "cell_type": "code",
      "execution_count": null,
      "metadata": {
        "id": "y0O2QslKx_Kb",
        "outputId": "f3096c8f-dee6-4b41-8b9b-e13730ad38db"
      },
      "outputs": [
        {
          "name": "stdout",
          "output_type": "stream",
          "text": [
            "![[Sullivan000.jpg]]\n",
            "![[Sullivan001.jpg]]\n",
            "![[Sullivan002.jpg]]\n",
            "![[Sullivan003.jpg]]\n",
            "![[Sullivan004.jpg]]\n",
            "![[Sullivan005.jpg]]\n",
            "![[Sullivan006.jpg]]\n",
            "![[Sullivan007.jpg]]\n",
            "![[Sullivan008.jpg]]\n",
            "![[Sullivan009.jpg]]\n",
            "![[Sullivan010.jpg]]\n",
            "![[Sullivan011.jpg]]\n",
            "![[Sullivan012.jpg]]\n",
            "![[Sullivan013.jpg]]\n",
            "![[Sullivan014.jpg]]\n",
            "![[Sullivan015.jpg]]\n",
            "![[Sullivan016.jpg]]\n",
            "![[Sullivan017.jpg]]\n",
            "![[Sullivan018.jpg]]\n",
            "![[Sullivan019.jpg]]\n",
            "![[Sullivan020.jpg]]\n",
            "![[Sullivan021.jpg]]\n",
            "![[Sullivan022.jpg]]\n",
            "![[Sullivan023.jpg]]\n",
            "![[Sullivan024.jpg]]\n",
            "![[Sullivan025.jpg]]\n",
            "![[Sullivan026.jpg]]\n",
            "![[Sullivan027.jpg]]\n",
            "![[Sullivan028.jpg]]\n",
            "![[Sullivan029.jpg]]\n",
            "![[Sullivan030.jpg]]\n",
            "![[Sullivan031.jpg]]\n",
            "![[Sullivan032.jpg]]\n",
            "![[Sullivan033.jpg]]\n",
            "![[Sullivan034.jpg]]\n",
            "![[Sullivan035.jpg]]\n",
            "![[Sullivan036.jpg]]\n",
            "![[Sullivan037.jpg]]\n",
            "![[Sullivan038.jpg]]\n"
          ]
        }
      ],
      "source": [
        "for i in range(10):\n",
        "    print(f\"![[Sullivan00{i}.jpg]]\")\n",
        "for i in range(10,39):\n",
        "    print(f\"![[Sullivan0{i}.jpg]]\")"
      ]
    },
    {
      "cell_type": "code",
      "execution_count": null,
      "metadata": {
        "id": "6ODtWsIox_Kb"
      },
      "outputs": [],
      "source": []
    }
  ],
  "metadata": {
    "kernelspec": {
      "display_name": "Python 3",
      "language": "python",
      "name": "python3"
    },
    "language_info": {
      "codemirror_mode": {
        "name": "ipython",
        "version": 3
      },
      "file_extension": ".py",
      "mimetype": "text/x-python",
      "name": "python",
      "nbconvert_exporter": "python",
      "pygments_lexer": "ipython3",
      "version": "3.11.5"
    },
    "orig_nbformat": 4,
    "colab": {
      "provenance": []
    }
  },
  "nbformat": 4,
  "nbformat_minor": 0
}